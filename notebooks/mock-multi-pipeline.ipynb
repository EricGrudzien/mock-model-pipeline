{
 "cells": [
  {
   "cell_type": "code",
   "execution_count": null,
   "metadata": {},
   "outputs": [],
   "source": [
    "import sagemaker\n",
    "import boto3\n",
    "from sagemaker.model import Model\n",
    "from sagemaker.model import FrameworkModel\n",
    "#from sagemaker.pipeline_model import PipelineModel\n",
    "from sagemaker.pipeline import PipelineModel\n",
    "from sagemaker import get_execution_role\n",
    "\n",
    "from time import gmtime, strftime\n",
    "\n",
    "from sagemaker.predictor import json_serializer, json_deserializer, Predictor\n",
    "from sagemaker.serializers import JSONSerializer\n",
    "from sagemaker.deserializers import JSONDeserializer"
   ]
  },
  {
   "cell_type": "code",
   "execution_count": null,
   "metadata": {},
   "outputs": [],
   "source": [
    "sagemaker_session = sagemaker.Session()\n",
    "role = get_execution_role()"
   ]
  },
  {
   "cell_type": "code",
   "execution_count": null,
   "metadata": {},
   "outputs": [],
   "source": [
    "model_a_name = 'mock-model-a-' + strftime(\"%Y-%m-%d-%H-%M-%S\", gmtime())\n",
    "model_b_name = 'mock-model-b-' + strftime(\"%Y-%m-%d-%H-%M-%S\", gmtime())\n",
    "model_pipeline_name = 'mock-model-pipeline-' + strftime(\"%Y-%m-%d-%H-%M-%S\", gmtime())"
   ]
  },
  {
   "cell_type": "code",
   "execution_count": null,
   "metadata": {},
   "outputs": [],
   "source": [
    "ecr_repository_name = \"mmkv\"\n",
    "account_id = role.split(':')[4]\n",
    "region = boto3.Session().region_name\n",
    "\n",
    "container_image_uri = '{0}.dkr.ecr.{1}.amazonaws.com/{2}:latest'.format(account_id, region, ecr_repository_name)\n",
    "print(container_image_uri)"
   ]
  },
  {
   "cell_type": "markdown",
   "metadata": {},
   "source": [
    " --- --- Version 1 - working example --- ---"
   ]
  },
  {
   "cell_type": "code",
   "execution_count": null,
   "metadata": {},
   "outputs": [],
   "source": [
    "model_a = Model(name = model_a_name,   \n",
    "                       image_uri = container_image_uri,\n",
    "                       role=role,\n",
    "                       env = {\n",
    "                           'SAGEMAKER_USE_NGINX': 'true',\n",
    "                           'SAGEMAKER_MODEL_SERVER_WORKERS': '1',\n",
    "                           'SAGEMAKER_MODEL_SERVER_TIMEOUT': '300'\n",
    "                       },\n",
    "                       #code_location=s3_code_location,\n",
    "                       #sagemaker_session=sagemaker_session #comment this line for local mode.\n",
    "                      )"
   ]
  },
  {
   "cell_type": "code",
   "execution_count": null,
   "metadata": {},
   "outputs": [],
   "source": [
    "model_b = Model(name = model_b_name,   \n",
    "                       image_uri = container_image_uri,\n",
    "                       role=role,\n",
    "                       env = {\n",
    "                           'SAGEMAKER_USE_NGINX': 'true',\n",
    "                           'SAGEMAKER_MODEL_SERVER_WORKERS': '1',\n",
    "                           'SAGEMAKER_MODEL_SERVER_TIMEOUT': '300'\n",
    "                       },\n",
    "                       #code_location=s3_code_location,\n",
    "                       #sagemaker_session=sagemaker_session #comment this line for local mode.\n",
    "                      )"
   ]
  },
  {
   "cell_type": "code",
   "execution_count": null,
   "metadata": {},
   "outputs": [],
   "source": [
    "endpoint_name = 'mock-models-ep-' + strftime(\"%Y-%m-%d-%H-%M-%S\", gmtime())\n",
    "print(endpoint_name)"
   ]
  },
  {
   "cell_type": "code",
   "execution_count": null,
   "metadata": {},
   "outputs": [],
   "source": [
    "# Create SageMaker Inference Pipeline, serial mode\n",
    "\n",
    "pipeline_model = PipelineModel(name=model_pipeline_name,\n",
    "                               role=role,\n",
    "                               models=[\n",
    "                                    model_a,\n",
    "                                    model_b\n",
    "                               ])"
   ]
  },
  {
   "cell_type": "code",
   "execution_count": null,
   "metadata": {},
   "outputs": [],
   "source": []
  },
  {
   "cell_type": "code",
   "execution_count": null,
   "metadata": {},
   "outputs": [],
   "source": [
    "# uncomment below if desire to deploy a single model\n",
    "\n",
    "# pred = model_a.deploy(initial_instance_count=1,\n",
    "#                     #instance_type='local',\n",
    "#                     instance_type=\"ml.t2.medium\",\n",
    "#                     endpoint_name=endpoint_name)"
   ]
  },
  {
   "cell_type": "code",
   "execution_count": null,
   "metadata": {},
   "outputs": [],
   "source": [
    "pred = pipeline_model.deploy(initial_instance_count=1,\n",
    "                    #instance_type=\"ml.m5.large\",\n",
    "                    instance_type= \"ml.c4.xlarge\",\n",
    "                    endpoint_name=endpoint_name)"
   ]
  },
  {
   "cell_type": "code",
   "execution_count": null,
   "metadata": {},
   "outputs": [],
   "source": [
    "predictor = Predictor(endpoint_name=\"mock-models-ep-2021-10-12-23-15-19\",\n",
    "#                     endpoint_name=endpoint_name,\n",
    "                      sagemaker_session=sagemaker.Session(),\n",
    "                      serializer=JSONSerializer(),\n",
    "                      deserializer=JSONDeserializer(),\n",
    "#                       content_type='application/json',\n",
    "#                       accept='application/json'\n",
    "                     )"
   ]
  },
  {
   "cell_type": "code",
   "execution_count": null,
   "metadata": {},
   "outputs": [],
   "source": [
    "payload = {\"key\": \"sme\", \"value\": 10}"
   ]
  },
  {
   "cell_type": "code",
   "execution_count": null,
   "metadata": {},
   "outputs": [],
   "source": [
    "print(predictor.predict(payload))"
   ]
  },
  {
   "cell_type": "markdown",
   "metadata": {},
   "source": [
    " --- --- Version 2 - working example --- ---"
   ]
  },
  {
   "cell_type": "code",
   "execution_count": null,
   "metadata": {},
   "outputs": [],
   "source": [
    "predictor.delete_endpoint()"
   ]
  },
  {
   "cell_type": "code",
   "execution_count": null,
   "metadata": {},
   "outputs": [],
   "source": []
  }
 ],
 "metadata": {
  "instance_type": "ml.t3.medium",
  "kernelspec": {
   "display_name": "Python 3 (Data Science)",
   "language": "python",
   "name": "python3__SAGEMAKER_INTERNAL__arn:aws:sagemaker:us-west-2:236514542706:image/datascience-1.0"
  },
  "language_info": {
   "codemirror_mode": {
    "name": "ipython",
    "version": 3
   },
   "file_extension": ".py",
   "mimetype": "text/x-python",
   "name": "python",
   "nbconvert_exporter": "python",
   "pygments_lexer": "ipython3",
   "version": "3.7.10"
  }
 },
 "nbformat": 4,
 "nbformat_minor": 4
}
